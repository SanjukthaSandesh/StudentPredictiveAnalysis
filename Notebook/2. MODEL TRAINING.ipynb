{
 "cells": [
  {
   "attachments": {},
   "cell_type": "markdown",
   "id": "92e48866",
   "metadata": {},
   "source": [
    "## Model Training"
   ]
  },
  {
   "cell_type": "markdown",
   "id": "25791a74",
   "metadata": {},
   "source": []
  },
  {
   "cell_type": "code",
   "execution_count": 162,
   "id": "91223bac",
   "metadata": {},
   "outputs": [],
   "source": [
    "import numpy as np\n",
    "import pandas as pd\n",
    "import matplotlib.pyplot as plt \n",
    "import seaborn as sns\n",
    "# Modelling\n",
    "from sklearn.metrics import mean_squared_error, r2_score\n",
    "from sklearn.neighbors import KNeighborsRegressor\n",
    "from sklearn.tree import DecisionTreeRegressor\n",
    "from sklearn.ensemble import RandomForestRegressor,AdaBoostRegressor\n",
    "from sklearn.svm import SVR\n",
    "from sklearn.linear_model import LinearRegression, Ridge,Lasso\n",
    "from sklearn.metrics import r2_score, mean_absolute_error, mean_squared_error\n",
    "from sklearn.model_selection import RandomizedSearchCV\n",
    "from catboost import CatBoostRegressor\n",
    "from xgboost import XGBRegressor\n",
    "from sklearn.linear_model import ElasticNet\n",
    "from sklearn.neural_network import MLPRegressor\n",
    "\n",
    "import warnings"
   ]
  },
  {
   "cell_type": "markdown",
   "id": "e45079ad",
   "metadata": {},
   "source": [
    "#### Import the CSV Data as Pandas DataFrame"
   ]
  },
  {
   "cell_type": "code",
   "execution_count": 142,
   "id": "e11c6255",
   "metadata": {},
   "outputs": [],
   "source": [
    "df = pd.read_csv('data/stud_final.csv')"
   ]
  },
  {
   "cell_type": "markdown",
   "id": "20634923",
   "metadata": {},
   "source": [
    "#### Show Top 5 Records"
   ]
  },
  {
   "cell_type": "code",
   "execution_count": 143,
   "id": "e7e412a2",
   "metadata": {},
   "outputs": [
    {
     "data": {
      "text/html": [
       "<div>\n",
       "<style scoped>\n",
       "    .dataframe tbody tr th:only-of-type {\n",
       "        vertical-align: middle;\n",
       "    }\n",
       "\n",
       "    .dataframe tbody tr th {\n",
       "        vertical-align: top;\n",
       "    }\n",
       "\n",
       "    .dataframe thead th {\n",
       "        text-align: right;\n",
       "    }\n",
       "</style>\n",
       "<table border=\"1\" class=\"dataframe\">\n",
       "  <thead>\n",
       "    <tr style=\"text-align: right;\">\n",
       "      <th></th>\n",
       "      <th>ID No</th>\n",
       "      <th>Prog Code</th>\n",
       "      <th>Gender</th>\n",
       "      <th>YoG</th>\n",
       "      <th>CGPA</th>\n",
       "      <th>CGPA100</th>\n",
       "      <th>CGPA200</th>\n",
       "      <th>CGPA300</th>\n",
       "      <th>CGPA400</th>\n",
       "      <th>SGPA</th>\n",
       "    </tr>\n",
       "  </thead>\n",
       "  <tbody>\n",
       "    <tr>\n",
       "      <th>0</th>\n",
       "      <td>42308</td>\n",
       "      <td>ICE</td>\n",
       "      <td>Female</td>\n",
       "      <td>2010</td>\n",
       "      <td>3.23</td>\n",
       "      <td>2.88</td>\n",
       "      <td>3.48</td>\n",
       "      <td>2.62</td>\n",
       "      <td>2.90</td>\n",
       "      <td>3.13</td>\n",
       "    </tr>\n",
       "    <tr>\n",
       "      <th>1</th>\n",
       "      <td>70978</td>\n",
       "      <td>BCH</td>\n",
       "      <td>Female</td>\n",
       "      <td>2010</td>\n",
       "      <td>3.58</td>\n",
       "      <td>3.25</td>\n",
       "      <td>4.26</td>\n",
       "      <td>3.37</td>\n",
       "      <td>3.47</td>\n",
       "      <td>3.02</td>\n",
       "    </tr>\n",
       "    <tr>\n",
       "      <th>2</th>\n",
       "      <td>31602</td>\n",
       "      <td>BCH</td>\n",
       "      <td>Male</td>\n",
       "      <td>2010</td>\n",
       "      <td>2.21</td>\n",
       "      <td>1.78</td>\n",
       "      <td>1.98</td>\n",
       "      <td>1.49</td>\n",
       "      <td>2.51</td>\n",
       "      <td>2.19</td>\n",
       "    </tr>\n",
       "    <tr>\n",
       "      <th>3</th>\n",
       "      <td>63847</td>\n",
       "      <td>BCH</td>\n",
       "      <td>Male</td>\n",
       "      <td>2010</td>\n",
       "      <td>2.70</td>\n",
       "      <td>2.67</td>\n",
       "      <td>2.44</td>\n",
       "      <td>2.00</td>\n",
       "      <td>2.35</td>\n",
       "      <td>3.19</td>\n",
       "    </tr>\n",
       "    <tr>\n",
       "      <th>4</th>\n",
       "      <td>30158</td>\n",
       "      <td>BCH</td>\n",
       "      <td>Female</td>\n",
       "      <td>2010</td>\n",
       "      <td>3.88</td>\n",
       "      <td>3.61</td>\n",
       "      <td>3.69</td>\n",
       "      <td>3.63</td>\n",
       "      <td>4.58</td>\n",
       "      <td>4.24</td>\n",
       "    </tr>\n",
       "  </tbody>\n",
       "</table>\n",
       "</div>"
      ],
      "text/plain": [
       "   ID No Prog Code  Gender   YoG  CGPA  CGPA100  CGPA200  CGPA300  CGPA400  \\\n",
       "0  42308       ICE  Female  2010  3.23     2.88     3.48     2.62     2.90   \n",
       "1  70978       BCH  Female  2010  3.58     3.25     4.26     3.37     3.47   \n",
       "2  31602       BCH    Male  2010  2.21     1.78     1.98     1.49     2.51   \n",
       "3  63847       BCH    Male  2010  2.70     2.67     2.44     2.00     2.35   \n",
       "4  30158       BCH  Female  2010  3.88     3.61     3.69     3.63     4.58   \n",
       "\n",
       "   SGPA  \n",
       "0  3.13  \n",
       "1  3.02  \n",
       "2  2.19  \n",
       "3  3.19  \n",
       "4  4.24  "
      ]
     },
     "execution_count": 143,
     "metadata": {},
     "output_type": "execute_result"
    }
   ],
   "source": [
    "df = df.dropna(axis=1, how='all')  # Drop columns where all values are NaN\n",
    "df.head()"
   ]
  },
  {
   "cell_type": "markdown",
   "id": "fbd32281",
   "metadata": {},
   "source": [
    "#### Preparing X and Y variables"
   ]
  },
  {
   "cell_type": "code",
   "execution_count": 144,
   "id": "56d72fde",
   "metadata": {},
   "outputs": [],
   "source": [
    "X = df.drop(columns=['CGPA'],axis=1)"
   ]
  },
  {
   "cell_type": "code",
   "execution_count": 145,
   "id": "cd613177",
   "metadata": {},
   "outputs": [
    {
     "data": {
      "text/html": [
       "<div>\n",
       "<style scoped>\n",
       "    .dataframe tbody tr th:only-of-type {\n",
       "        vertical-align: middle;\n",
       "    }\n",
       "\n",
       "    .dataframe tbody tr th {\n",
       "        vertical-align: top;\n",
       "    }\n",
       "\n",
       "    .dataframe thead th {\n",
       "        text-align: right;\n",
       "    }\n",
       "</style>\n",
       "<table border=\"1\" class=\"dataframe\">\n",
       "  <thead>\n",
       "    <tr style=\"text-align: right;\">\n",
       "      <th></th>\n",
       "      <th>ID No</th>\n",
       "      <th>Prog Code</th>\n",
       "      <th>Gender</th>\n",
       "      <th>YoG</th>\n",
       "      <th>CGPA100</th>\n",
       "      <th>CGPA200</th>\n",
       "      <th>CGPA300</th>\n",
       "      <th>CGPA400</th>\n",
       "      <th>SGPA</th>\n",
       "    </tr>\n",
       "  </thead>\n",
       "  <tbody>\n",
       "    <tr>\n",
       "      <th>0</th>\n",
       "      <td>42308</td>\n",
       "      <td>ICE</td>\n",
       "      <td>Female</td>\n",
       "      <td>2010</td>\n",
       "      <td>2.88</td>\n",
       "      <td>3.48</td>\n",
       "      <td>2.62</td>\n",
       "      <td>2.90</td>\n",
       "      <td>3.13</td>\n",
       "    </tr>\n",
       "    <tr>\n",
       "      <th>1</th>\n",
       "      <td>70978</td>\n",
       "      <td>BCH</td>\n",
       "      <td>Female</td>\n",
       "      <td>2010</td>\n",
       "      <td>3.25</td>\n",
       "      <td>4.26</td>\n",
       "      <td>3.37</td>\n",
       "      <td>3.47</td>\n",
       "      <td>3.02</td>\n",
       "    </tr>\n",
       "    <tr>\n",
       "      <th>2</th>\n",
       "      <td>31602</td>\n",
       "      <td>BCH</td>\n",
       "      <td>Male</td>\n",
       "      <td>2010</td>\n",
       "      <td>1.78</td>\n",
       "      <td>1.98</td>\n",
       "      <td>1.49</td>\n",
       "      <td>2.51</td>\n",
       "      <td>2.19</td>\n",
       "    </tr>\n",
       "    <tr>\n",
       "      <th>3</th>\n",
       "      <td>63847</td>\n",
       "      <td>BCH</td>\n",
       "      <td>Male</td>\n",
       "      <td>2010</td>\n",
       "      <td>2.67</td>\n",
       "      <td>2.44</td>\n",
       "      <td>2.00</td>\n",
       "      <td>2.35</td>\n",
       "      <td>3.19</td>\n",
       "    </tr>\n",
       "    <tr>\n",
       "      <th>4</th>\n",
       "      <td>30158</td>\n",
       "      <td>BCH</td>\n",
       "      <td>Female</td>\n",
       "      <td>2010</td>\n",
       "      <td>3.61</td>\n",
       "      <td>3.69</td>\n",
       "      <td>3.63</td>\n",
       "      <td>4.58</td>\n",
       "      <td>4.24</td>\n",
       "    </tr>\n",
       "  </tbody>\n",
       "</table>\n",
       "</div>"
      ],
      "text/plain": [
       "   ID No Prog Code  Gender   YoG  CGPA100  CGPA200  CGPA300  CGPA400  SGPA\n",
       "0  42308       ICE  Female  2010     2.88     3.48     2.62     2.90  3.13\n",
       "1  70978       BCH  Female  2010     3.25     4.26     3.37     3.47  3.02\n",
       "2  31602       BCH    Male  2010     1.78     1.98     1.49     2.51  2.19\n",
       "3  63847       BCH    Male  2010     2.67     2.44     2.00     2.35  3.19\n",
       "4  30158       BCH  Female  2010     3.61     3.69     3.63     4.58  4.24"
      ]
     },
     "execution_count": 145,
     "metadata": {},
     "output_type": "execute_result"
    }
   ],
   "source": [
    "X.head()"
   ]
  },
  {
   "cell_type": "code",
   "execution_count": 146,
   "id": "f237ea14",
   "metadata": {},
   "outputs": [
    {
     "name": "stdout",
     "output_type": "stream",
     "text": [
      "Categories in 'Program Code' variable:      ['ICE' 'BCH' 'MCB' 'BLD' 'CHE' 'CHM' 'CVE' 'CIS' 'MIS' 'CEN' 'EEE' 'MAT'\n",
      " 'MCE' 'PET' 'PHYE' 'PHYR' 'PHYG']\n",
      "Categories in 'Gender' variable:   ['Female' 'Male']\n",
      "Categories in'Year Of Graduation' variable: [2010 2011 2012 2013 2014]\n"
     ]
    }
   ],
   "source": [
    "print(\"Categories in 'Program Code' variable:     \",end=\" \" )\n",
    "print(df['Prog Code'].unique())\n",
    "\n",
    "print(\"Categories in 'Gender' variable:  \",end=\" \")\n",
    "print(df['Gender'].unique())\n",
    "\n",
    "print(\"Categories in'Year Of Graduation' variable:\",end=\" \" )\n",
    "print(df['YoG'].unique())\n",
    "\n"
   ]
  },
  {
   "cell_type": "code",
   "execution_count": 147,
   "id": "924b7f9d",
   "metadata": {},
   "outputs": [],
   "source": [
    "y = df['CGPA']"
   ]
  },
  {
   "cell_type": "code",
   "execution_count": 148,
   "id": "ffc69816",
   "metadata": {},
   "outputs": [
    {
     "data": {
      "text/plain": [
       "0       3.23\n",
       "1       3.58\n",
       "2       2.21\n",
       "3       2.70\n",
       "4       3.88\n",
       "        ... \n",
       "3041    4.18\n",
       "3042    2.91\n",
       "3043    3.66\n",
       "3044    4.56\n",
       "3045    4.18\n",
       "Name: CGPA, Length: 3046, dtype: float64"
      ]
     },
     "execution_count": 148,
     "metadata": {},
     "output_type": "execute_result"
    }
   ],
   "source": [
    "y"
   ]
  },
  {
   "cell_type": "code",
   "execution_count": 149,
   "id": "1e290fe3",
   "metadata": {},
   "outputs": [],
   "source": [
    "# Create Column Transformer with 3 types of transformers\n",
    "num_features = X.select_dtypes(exclude=\"object\").columns\n",
    "cat_features = X.select_dtypes(include=\"object\").columns\n",
    "\n",
    "from sklearn.preprocessing import OneHotEncoder, StandardScaler\n",
    "from sklearn.compose import ColumnTransformer\n",
    "\n",
    "numeric_transformer = StandardScaler()\n",
    "oh_transformer = OneHotEncoder()\n",
    "\n",
    "preprocessor = ColumnTransformer(\n",
    "    [\n",
    "        (\"OneHotEncoder\", oh_transformer, cat_features),\n",
    "         (\"StandardScaler\", numeric_transformer, num_features),        \n",
    "    ]\n",
    ")"
   ]
  },
  {
   "cell_type": "code",
   "execution_count": 150,
   "id": "9c68f99a",
   "metadata": {},
   "outputs": [],
   "source": [
    "X = preprocessor.fit_transform(X)"
   ]
  },
  {
   "cell_type": "code",
   "execution_count": 151,
   "id": "72459f1d",
   "metadata": {},
   "outputs": [
    {
     "data": {
      "text/plain": [
       "(3046, 26)"
      ]
     },
     "execution_count": 151,
     "metadata": {},
     "output_type": "execute_result"
    }
   ],
   "source": [
    "X.shape"
   ]
  },
  {
   "cell_type": "code",
   "execution_count": 152,
   "id": "ed5c4e99",
   "metadata": {},
   "outputs": [
    {
     "data": {
      "text/plain": [
       "((2436, 26), (610, 26))"
      ]
     },
     "execution_count": 152,
     "metadata": {},
     "output_type": "execute_result"
    }
   ],
   "source": [
    "# separate dataset into train and test\n",
    "from sklearn.model_selection import train_test_split\n",
    "X_train, X_test, y_train, y_test = train_test_split(X,y,test_size=0.2,random_state=42)\n",
    "X_train.shape, X_test.shape"
   ]
  },
  {
   "cell_type": "code",
   "execution_count": 153,
   "id": "e79d0b49",
   "metadata": {},
   "outputs": [
    {
     "name": "stdout",
     "output_type": "stream",
     "text": [
      "\n",
      "Selected features based on ANOVA F-Value: Index(['CGPA100', 'CGPA200', 'CGPA300', 'CGPA400', 'SGPA', 'Prog Code_MIS',\n",
      "       'Gender_Male'],\n",
      "      dtype='object')\n"
     ]
    }
   ],
   "source": [
    "import pandas as pd\n",
    "from sklearn.feature_selection import mutual_info_classif, mutual_info_regression, SelectKBest, chi2, f_classif\n",
    "from sklearn.model_selection import train_test_split\n",
    "\n",
    "\n",
    "df = pd.read_csv('data/stud_final.csv')\n",
    "df = df.dropna(axis=1, how='all') \n",
    "# Save the target column separately\n",
    "target = df['CGPA']\n",
    "\n",
    "# Convert categorical columns to numeric using one-hot encoding\n",
    "df_encoded = pd.get_dummies(df.drop(columns=['CGPA']), drop_first=True)\n",
    "\n",
    "# Reattach the target column\n",
    "df_encoded['CGPA'] = target\n",
    "\n",
    "# Define target and features\n",
    "X = df_encoded.drop(columns='CGPA')\n",
    "y = df_encoded['CGPA']\n",
    "\n",
    "\n",
    "\n",
    "# 3. **ANOVA F-Value (For Numerical and Categorical Features in Classification)**\n",
    "# Use ANOVA F-value for classification tasks\n",
    "anova_selector = SelectKBest(f_classif, k=min(7, X.shape[1]))\n",
    "X_new_anova = anova_selector.fit_transform(X, y)\n",
    "\n",
    "# Show the selected features based on ANOVA F-Value\n",
    "selected_features_anova = X.columns[anova_selector.get_support()]\n",
    "print(\"\\nSelected features based on ANOVA F-Value:\", selected_features_anova)\n"
   ]
  },
  {
   "cell_type": "markdown",
   "id": "4cd80317",
   "metadata": {},
   "source": [
    "#### Create an Evaluate Function to give all metrics after model Training"
   ]
  },
  {
   "cell_type": "code",
   "execution_count": 154,
   "id": "8c247bd0",
   "metadata": {},
   "outputs": [],
   "source": [
    "def evaluate_model(true, predicted):\n",
    "    mae = mean_absolute_error(true, predicted)\n",
    "    mse = mean_squared_error(true, predicted)\n",
    "    rmse = np.sqrt(mean_squared_error(true, predicted))\n",
    "    r2_square = r2_score(true, predicted)\n",
    "    return mae, rmse, r2_square"
   ]
  },
  {
   "cell_type": "code",
   "execution_count": 163,
   "id": "79ccb8e7",
   "metadata": {
    "scrolled": false
   },
   "outputs": [
    {
     "name": "stdout",
     "output_type": "stream",
     "text": [
      "Ridge\n",
      "Model performance for Training set\n",
      "- Root Mean Squared Error: 0.0884\n",
      "- Mean Absolute Error: 0.0591\n",
      "- R2 Score: 0.9834\n",
      "----------------------------------\n",
      "Model performance for Test set\n",
      "- Root Mean Squared Error: 0.0816\n",
      "- Mean Absolute Error: 0.0581\n",
      "- R2 Score: 0.9868\n",
      "===================================\n",
      "\n",
      "\n",
      "K-Neighbors Regressor\n",
      "Model performance for Training set\n",
      "- Root Mean Squared Error: 0.1178\n",
      "- Mean Absolute Error: 0.0916\n",
      "- R2 Score: 0.9705\n",
      "----------------------------------\n",
      "Model performance for Test set\n",
      "- Root Mean Squared Error: 0.1386\n",
      "- Mean Absolute Error: 0.1091\n",
      "- R2 Score: 0.9620\n",
      "===================================\n",
      "\n",
      "\n",
      "Decision Tree\n",
      "Model performance for Training set\n",
      "- Root Mean Squared Error: 0.0000\n",
      "- Mean Absolute Error: 0.0000\n",
      "- R2 Score: 1.0000\n",
      "----------------------------------\n",
      "Model performance for Test set\n",
      "- Root Mean Squared Error: 0.1573\n",
      "- Mean Absolute Error: 0.1143\n",
      "- R2 Score: 0.9510\n",
      "===================================\n",
      "\n",
      "\n",
      "Random Forest Regressor\n",
      "Model performance for Training set\n",
      "- Root Mean Squared Error: 0.0371\n",
      "- Mean Absolute Error: 0.0263\n",
      "- R2 Score: 0.9971\n",
      "----------------------------------\n",
      "Model performance for Test set\n",
      "- Root Mean Squared Error: 0.0958\n",
      "- Mean Absolute Error: 0.0691\n",
      "- R2 Score: 0.9818\n",
      "===================================\n",
      "\n",
      "\n",
      "ElasticNet Regression\n",
      "Model performance for Training set\n",
      "- Root Mean Squared Error: 0.5861\n",
      "- Mean Absolute Error: 0.4800\n",
      "- R2 Score: 0.2703\n",
      "----------------------------------\n",
      "Model performance for Test set\n",
      "- Root Mean Squared Error: 0.6091\n",
      "- Mean Absolute Error: 0.5026\n",
      "- R2 Score: 0.2657\n",
      "===================================\n",
      "\n",
      "\n",
      "AdaBoost Regressor\n",
      "Model performance for Training set\n",
      "- Root Mean Squared Error: 0.1418\n",
      "- Mean Absolute Error: 0.1147\n",
      "- R2 Score: 0.9573\n",
      "----------------------------------\n",
      "Model performance for Test set\n",
      "- Root Mean Squared Error: 0.1419\n",
      "- Mean Absolute Error: 0.1131\n",
      "- R2 Score: 0.9602\n",
      "===================================\n",
      "\n",
      "\n",
      "MLP Regressor\n",
      "Model performance for Training set\n",
      "- Root Mean Squared Error: 0.1013\n",
      "- Mean Absolute Error: 0.0743\n",
      "- R2 Score: 0.9782\n",
      "----------------------------------\n",
      "Model performance for Test set\n",
      "- Root Mean Squared Error: 0.1115\n",
      "- Mean Absolute Error: 0.0830\n",
      "- R2 Score: 0.9754\n",
      "===================================\n",
      "\n",
      "\n"
     ]
    }
   ],
   "source": [
    "models = {\n",
    "    \"Ridge\": Ridge(),\n",
    "    \"K-Neighbors Regressor\": KNeighborsRegressor(),\n",
    "    \"Decision Tree\": DecisionTreeRegressor(),\n",
    "    \"Random Forest Regressor\": RandomForestRegressor(),\n",
    "    \"ElasticNet Regression\": ElasticNet(),\n",
    "    \"AdaBoost Regressor\": AdaBoostRegressor(),\n",
    "    \"MLP Regressor\": MLPRegressor(),\n",
    " \n",
    "    \n",
    "}\n",
    "model_list = []\n",
    "r2_list =[]\n",
    "\n",
    "for i in range(len(list(models))):\n",
    "    model = list(models.values())[i]\n",
    "    model.fit(X_train, y_train) # Train model\n",
    "\n",
    "    # Make predictions\n",
    "    y_train_pred = model.predict(X_train)\n",
    "    y_test_pred = model.predict(X_test)\n",
    "    \n",
    "    # Evaluate Train and Test dataset\n",
    "    model_train_mae , model_train_rmse, model_train_r2 = evaluate_model(y_train, y_train_pred)\n",
    "\n",
    "    model_test_mae , model_test_rmse, model_test_r2 = evaluate_model(y_test, y_test_pred)\n",
    "\n",
    "    \n",
    "    print(list(models.keys())[i])\n",
    "    model_list.append(list(models.keys())[i])\n",
    "    \n",
    "    print('Model performance for Training set')\n",
    "    print(\"- Root Mean Squared Error: {:.4f}\".format(model_train_rmse))\n",
    "    print(\"- Mean Absolute Error: {:.4f}\".format(model_train_mae))\n",
    "    print(\"- R2 Score: {:.4f}\".format(model_train_r2))\n",
    "\n",
    "    print('----------------------------------')\n",
    "    \n",
    "    print('Model performance for Test set')\n",
    "    print(\"- Root Mean Squared Error: {:.4f}\".format(model_test_rmse))\n",
    "    print(\"- Mean Absolute Error: {:.4f}\".format(model_test_mae))\n",
    "    print(\"- R2 Score: {:.4f}\".format(model_test_r2))\n",
    "    r2_list.append(model_test_r2)\n",
    "    \n",
    "    print('='*35)\n",
    "    print('\\n')"
   ]
  },
  {
   "cell_type": "markdown",
   "id": "06480b5a",
   "metadata": {},
   "source": [
    "### Results"
   ]
  },
  {
   "cell_type": "code",
   "execution_count": 164,
   "id": "e0159e5f",
   "metadata": {},
   "outputs": [
    {
     "data": {
      "text/html": [
       "<div>\n",
       "<style scoped>\n",
       "    .dataframe tbody tr th:only-of-type {\n",
       "        vertical-align: middle;\n",
       "    }\n",
       "\n",
       "    .dataframe tbody tr th {\n",
       "        vertical-align: top;\n",
       "    }\n",
       "\n",
       "    .dataframe thead th {\n",
       "        text-align: right;\n",
       "    }\n",
       "</style>\n",
       "<table border=\"1\" class=\"dataframe\">\n",
       "  <thead>\n",
       "    <tr style=\"text-align: right;\">\n",
       "      <th></th>\n",
       "      <th>Model Name</th>\n",
       "      <th>R2_Score</th>\n",
       "    </tr>\n",
       "  </thead>\n",
       "  <tbody>\n",
       "    <tr>\n",
       "      <th>0</th>\n",
       "      <td>Ridge</td>\n",
       "      <td>0.986838</td>\n",
       "    </tr>\n",
       "    <tr>\n",
       "      <th>3</th>\n",
       "      <td>Random Forest Regressor</td>\n",
       "      <td>0.981835</td>\n",
       "    </tr>\n",
       "    <tr>\n",
       "      <th>6</th>\n",
       "      <td>MLP Regressor</td>\n",
       "      <td>0.975405</td>\n",
       "    </tr>\n",
       "    <tr>\n",
       "      <th>1</th>\n",
       "      <td>K-Neighbors Regressor</td>\n",
       "      <td>0.961961</td>\n",
       "    </tr>\n",
       "    <tr>\n",
       "      <th>5</th>\n",
       "      <td>AdaBoost Regressor</td>\n",
       "      <td>0.960168</td>\n",
       "    </tr>\n",
       "    <tr>\n",
       "      <th>2</th>\n",
       "      <td>Decision Tree</td>\n",
       "      <td>0.951016</td>\n",
       "    </tr>\n",
       "    <tr>\n",
       "      <th>4</th>\n",
       "      <td>ElasticNet Regression</td>\n",
       "      <td>0.265727</td>\n",
       "    </tr>\n",
       "  </tbody>\n",
       "</table>\n",
       "</div>"
      ],
      "text/plain": [
       "                Model Name  R2_Score\n",
       "0                    Ridge  0.986838\n",
       "3  Random Forest Regressor  0.981835\n",
       "6            MLP Regressor  0.975405\n",
       "1    K-Neighbors Regressor  0.961961\n",
       "5       AdaBoost Regressor  0.960168\n",
       "2            Decision Tree  0.951016\n",
       "4    ElasticNet Regression  0.265727"
      ]
     },
     "execution_count": 164,
     "metadata": {},
     "output_type": "execute_result"
    }
   ],
   "source": [
    "pd.DataFrame(list(zip(model_list, r2_list)), columns=['Model Name', 'R2_Score']).sort_values(by=[\"R2_Score\"],ascending=False)"
   ]
  },
  {
   "cell_type": "markdown",
   "id": "357a7c1c",
   "metadata": {},
   "source": [
    "## Ridge Regression"
   ]
  },
  {
   "cell_type": "code",
   "execution_count": 157,
   "id": "9a6ad559",
   "metadata": {},
   "outputs": [
    {
     "name": "stdout",
     "output_type": "stream",
     "text": [
      "Accuracy of the Ridge model is 98.68\n"
     ]
    }
   ],
   "source": [
    "from sklearn.linear_model import Ridge\n",
    "from sklearn.metrics import r2_score\n",
    "\n",
    "# Initialize the Ridge Regression model\n",
    "ridge_model = Ridge(fit_intercept=True)\n",
    "\n",
    "# Fit the model on the training data\n",
    "ridge_model = ridge_model.fit(X_train, y_train)\n",
    "\n",
    "# Predict the target values for the test set\n",
    "y_pred_ridge = ridge_model.predict(X_test)\n",
    "\n",
    "# Calculate the R^2 score (coefficient of determination)\n",
    "ridge_score = r2_score(y_test, y_pred_ridge) * 100\n",
    "\n",
    "# Print the accuracy of the model\n",
    "print(\"Accuracy of the Ridge model is %.2f\" % ridge_score)\n"
   ]
  },
  {
   "cell_type": "markdown",
   "id": "1d31453e",
   "metadata": {},
   "source": [
    "## Plot y_pred and y_test"
   ]
  },
  {
   "cell_type": "code",
   "execution_count": 158,
   "id": "eb557b0a",
   "metadata": {},
   "outputs": [
    {
     "data": {
      "image/png": "[encoded data removed]",
      "text/plain": [
       "<Figure size 640x480 with 1 Axes>"
      ]
     },
     "metadata": {},
     "output_type": "display_data"
    }
   ],
   "source": [
    "plt.scatter(y_test,y_pred_ridge);\n",
    "plt.xlabel('Actual');\n",
    "plt.ylabel('Predicted');"
   ]
  },
  {
   "cell_type": "code",
   "execution_count": 159,
   "id": "1e707ec3",
   "metadata": {},
   "outputs": [
    {
     "data": {
      "image/png": "[encoded data removed]",
      "text/plain": [
       "<Figure size 640x480 with 1 Axes>"
      ]
     },
     "metadata": {},
     "output_type": "display_data"
    }
   ],
   "source": [
    "sns.regplot(x=y_test,y=y_pred_ridge,ci=None,color ='red');"
   ]
  },
  {
   "cell_type": "markdown",
   "id": "79c2fe28",
   "metadata": {},
   "source": [
    "#### Difference between Actual and Predicted Values"
   ]
  },
  {
   "cell_type": "code",
   "execution_count": 160,
   "id": "7c9a8b48",
   "metadata": {},
   "outputs": [
    {
     "data": {
      "text/html": [
       "<div>\n",
       "<style scoped>\n",
       "    .dataframe tbody tr th:only-of-type {\n",
       "        vertical-align: middle;\n",
       "    }\n",
       "\n",
       "    .dataframe tbody tr th {\n",
       "        vertical-align: top;\n",
       "    }\n",
       "\n",
       "    .dataframe thead th {\n",
       "        text-align: right;\n",
       "    }\n",
       "</style>\n",
       "<table border=\"1\" class=\"dataframe\">\n",
       "  <thead>\n",
       "    <tr style=\"text-align: right;\">\n",
       "      <th></th>\n",
       "      <th>Actual Value</th>\n",
       "      <th>Predicted Value</th>\n",
       "      <th>Difference</th>\n",
       "    </tr>\n",
       "  </thead>\n",
       "  <tbody>\n",
       "    <tr>\n",
       "      <th>1018</th>\n",
       "      <td>4.40</td>\n",
       "      <td>4.394158</td>\n",
       "      <td>0.005842</td>\n",
       "    </tr>\n",
       "    <tr>\n",
       "      <th>642</th>\n",
       "      <td>4.44</td>\n",
       "      <td>4.446257</td>\n",
       "      <td>-0.006257</td>\n",
       "    </tr>\n",
       "    <tr>\n",
       "      <th>2241</th>\n",
       "      <td>3.45</td>\n",
       "      <td>3.314633</td>\n",
       "      <td>0.135367</td>\n",
       "    </tr>\n",
       "    <tr>\n",
       "      <th>1377</th>\n",
       "      <td>3.52</td>\n",
       "      <td>3.526251</td>\n",
       "      <td>-0.006251</td>\n",
       "    </tr>\n",
       "    <tr>\n",
       "      <th>2221</th>\n",
       "      <td>2.31</td>\n",
       "      <td>2.332493</td>\n",
       "      <td>-0.022493</td>\n",
       "    </tr>\n",
       "    <tr>\n",
       "      <th>...</th>\n",
       "      <td>...</td>\n",
       "      <td>...</td>\n",
       "      <td>...</td>\n",
       "    </tr>\n",
       "    <tr>\n",
       "      <th>2730</th>\n",
       "      <td>3.37</td>\n",
       "      <td>3.465654</td>\n",
       "      <td>-0.095654</td>\n",
       "    </tr>\n",
       "    <tr>\n",
       "      <th>2404</th>\n",
       "      <td>3.76</td>\n",
       "      <td>3.669722</td>\n",
       "      <td>0.090278</td>\n",
       "    </tr>\n",
       "    <tr>\n",
       "      <th>498</th>\n",
       "      <td>4.38</td>\n",
       "      <td>4.424870</td>\n",
       "      <td>-0.044870</td>\n",
       "    </tr>\n",
       "    <tr>\n",
       "      <th>2936</th>\n",
       "      <td>3.55</td>\n",
       "      <td>3.494343</td>\n",
       "      <td>0.055657</td>\n",
       "    </tr>\n",
       "    <tr>\n",
       "      <th>210</th>\n",
       "      <td>3.01</td>\n",
       "      <td>3.062917</td>\n",
       "      <td>-0.052917</td>\n",
       "    </tr>\n",
       "  </tbody>\n",
       "</table>\n",
       "<p>610 rows × 3 columns</p>\n",
       "</div>"
      ],
      "text/plain": [
       "      Actual Value  Predicted Value  Difference\n",
       "1018          4.40         4.394158    0.005842\n",
       "642           4.44         4.446257   -0.006257\n",
       "2241          3.45         3.314633    0.135367\n",
       "1377          3.52         3.526251   -0.006251\n",
       "2221          2.31         2.332493   -0.022493\n",
       "...            ...              ...         ...\n",
       "2730          3.37         3.465654   -0.095654\n",
       "2404          3.76         3.669722    0.090278\n",
       "498           4.38         4.424870   -0.044870\n",
       "2936          3.55         3.494343    0.055657\n",
       "210           3.01         3.062917   -0.052917\n",
       "\n",
       "[610 rows x 3 columns]"
      ]
     },
     "execution_count": 160,
     "metadata": {},
     "output_type": "execute_result"
    }
   ],
   "source": [
    "pred_df=pd.DataFrame({'Actual Value':y_test,'Predicted Value':y_pred_ridge,'Difference':y_test-y_pred_ridge})\n",
    "pred_df"
   ]
  }
 ],
 "metadata": {
  "kernelspec": {
   "display_name": "Python 3",
   "language": "python",
   "name": "python3"
  },
  "language_info": {
   "codemirror_mode": {
    "name": "ipython",
    "version": 3
   },
   "file_extension": ".py",
   "mimetype": "text/x-python",
   "name": "python",
   "nbconvert_exporter": "python",
   "pygments_lexer": "ipython3",
   "version": "3.12.8"
  }
 },
 "nbformat": 4,
 "nbformat_minor": 5
}
